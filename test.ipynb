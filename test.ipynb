{
 "cells": [
  {
   "cell_type": "code",
   "execution_count": 2,
   "id": "12097ff4",
   "metadata": {},
   "outputs": [],
   "source": [
    "from machines import *\n",
    "from farm import *"
   ]
  },
  {
   "cell_type": "markdown",
   "id": "abb913fb",
   "metadata": {},
   "source": [
    "setup machines and farm"
   ]
  },
  {
   "cell_type": "code",
   "execution_count": 15,
   "id": "9f274ea3",
   "metadata": {},
   "outputs": [],
   "source": [
    "tractor1 = Tractor(\"BMW\", \"X8\", True)\n",
    "field1 = Field()\n",
    "plow1 = Plow()\n",
    "planter1 = Planter()\n",
    "harvester1 = Harvester()"
   ]
  },
  {
   "cell_type": "code",
   "execution_count": 16,
   "id": "395f35e0",
   "metadata": {},
   "outputs": [
    {
     "name": "stdout",
     "output_type": "stream",
     "text": [
      "<machines.Plow object at 0x000001D6095970D0> attached to the tractor.\n",
      "Tractor is driving.\n",
      "The field has been plowed.\n",
      "Tractor stopped.\n"
     ]
    }
   ],
   "source": [
    "tractor1.attach_implement(plow1)\n",
    "tractor1.drive(field1)\n",
    "tractor1.stop()"
   ]
  },
  {
   "cell_type": "code",
   "execution_count": 17,
   "id": "19eaafb8",
   "metadata": {},
   "outputs": [
    {
     "name": "stdout",
     "output_type": "stream",
     "text": [
      "Bought 1 banana seeds for 10. Current balance: 5.\n"
     ]
    }
   ],
   "source": [
    "field1.buy_seeds('banana', 1)"
   ]
  },
  {
   "cell_type": "code",
   "execution_count": 18,
   "id": "162ba31e",
   "metadata": {},
   "outputs": [
    {
     "name": "stdout",
     "output_type": "stream",
     "text": [
      "<machines.Plow object at 0x000001D6095970D0>  detached from the tractor.\n",
      "Fuel is refilled.\n"
     ]
    }
   ],
   "source": [
    "tractor1.detach_implement(plow1)\n",
    "tractor1.refuel()"
   ]
  },
  {
   "cell_type": "code",
   "execution_count": 19,
   "id": "a29cc75f",
   "metadata": {},
   "outputs": [
    {
     "name": "stdout",
     "output_type": "stream",
     "text": [
      "<machines.Planter object at 0x000001D609597ED0> attached to the tractor.\n",
      "Tractor is driving.\n",
      "Enter seed type to plant (banana, pineapple, watermelon): banana\n",
      "Seeds of banana have been planted in the field.\n",
      "Tractor stopped.\n"
     ]
    }
   ],
   "source": [
    "tractor1.attach_implement(planter1)\n",
    "tractor1.drive(field1)\n",
    "tractor1.stop()"
   ]
  },
  {
   "cell_type": "code",
   "execution_count": 20,
   "id": "13999327",
   "metadata": {},
   "outputs": [
    {
     "name": "stdout",
     "output_type": "stream",
     "text": [
      "Fuel is refilled.\n",
      "2 days left until the banana is ready for harvest.\n",
      "1 days left until the banana is ready for harvest.\n",
      "The banana is ready for harvest.\n"
     ]
    }
   ],
   "source": [
    "tractor1.refuel()\n",
    "for x in range(3):\n",
    "    field1.pass_day()"
   ]
  },
  {
   "cell_type": "code",
   "execution_count": 21,
   "id": "48985796",
   "metadata": {
    "scrolled": true
   },
   "outputs": [
    {
     "name": "stdout",
     "output_type": "stream",
     "text": [
      "<machines.Planter object at 0x000001D609597ED0>  detached from the tractor.\n",
      "<machines.Harvester object at 0x000001D6095962D0> attached to the tractor.\n",
      "Fuel is refilled.\n",
      "Tractor is driving.\n",
      "The field has been harvested. Profit: 50. Current balance: 55.\n",
      "Tractor stopped.\n"
     ]
    }
   ],
   "source": [
    "tractor1.detach_implement(planter1)\n",
    "tractor1.attach_implement(harvester1)\n",
    "tractor1.refuel()\n",
    "tractor1.drive(field1)\n",
    "tractor1.stop()"
   ]
  },
  {
   "cell_type": "markdown",
   "id": "2a96ad09",
   "metadata": {},
   "source": [
    "#Testing the new implement and field functions."
   ]
  },
  {
   "cell_type": "code",
   "execution_count": 5,
   "id": "71f54495",
   "metadata": {},
   "outputs": [
    {
     "name": "stdout",
     "output_type": "stream",
     "text": [
      "Bought 1 banana seeds for 10. Current balance: 0.\n"
     ]
    }
   ],
   "source": [
    "tractor2 = Tractor(\"Benz\", \"E350\", True)\n",
    "field2 = Field()\n",
    "plow2 = Plow()\n",
    "planter2 = Planter()\n",
    "harvester2 = Harvester()\n",
    "water_tank2 = Water_tank()\n",
    "field2.buy_seeds('banana', 1)"
   ]
  },
  {
   "cell_type": "code",
   "execution_count": 6,
   "id": "cef19042",
   "metadata": {},
   "outputs": [
    {
     "name": "stdout",
     "output_type": "stream",
     "text": [
      "<machines.Plow object at 0x000001ADBBE825D0> attached to the tractor.\n",
      "Tractor is driving.\n",
      "The field has been plowed.\n",
      "Out of fuel, please refuel and re-attach implement.\n",
      "Tractor stopped.\n",
      "Fuel is refilled.\n"
     ]
    }
   ],
   "source": [
    "tractor2.attach_implement(plow2)\n",
    "tractor2.drive(field2)\n",
    "tractor2.stop()\n",
    "tractor2.refuel()\n"
   ]
  },
  {
   "cell_type": "code",
   "execution_count": 7,
   "id": "f28acb9e",
   "metadata": {},
   "outputs": [
    {
     "name": "stdout",
     "output_type": "stream",
     "text": [
      "<machines.Planter object at 0x000001ADBB1B6090> attached to the tractor.\n",
      "Tractor is driving.\n",
      "Enter seed type to plant (banana, pineapple, watermelon): banana\n",
      "Seeds of banana have been planted in the field.\n",
      "Out of fuel, please refuel and re-attach implement.\n",
      "Tractor stopped.\n",
      "Fuel is refilled.\n"
     ]
    }
   ],
   "source": [
    "tractor2.attach_implement(planter2)\n",
    "tractor2.drive(field2)\n",
    "tractor2.stop()\n",
    "tractor2.refuel()"
   ]
  },
  {
   "cell_type": "code",
   "execution_count": 8,
   "id": "eadff33e",
   "metadata": {},
   "outputs": [
    {
     "ename": "TypeError",
     "evalue": "'Water_tank' object is not callable",
     "output_type": "error",
     "traceback": [
      "\u001b[1;31m---------------------------------------------------------------------------\u001b[0m",
      "\u001b[1;31mTypeError\u001b[0m                                 Traceback (most recent call last)",
      "Cell \u001b[1;32mIn[8], line 1\u001b[0m\n\u001b[1;32m----> 1\u001b[0m tractor2\u001b[38;5;241m.\u001b[39mattach_implement(water_tank2(has_water\u001b[38;5;241m=\u001b[39m\u001b[38;5;28;01mTrue\u001b[39;00m))\n\u001b[0;32m      2\u001b[0m tractor2\u001b[38;5;241m.\u001b[39mdrive(field2)\n\u001b[0;32m      3\u001b[0m tractor2\u001b[38;5;241m.\u001b[39mstop()\n",
      "\u001b[1;31mTypeError\u001b[0m: 'Water_tank' object is not callable"
     ]
    }
   ],
   "source": [
    "tractor2.attach_implement(water_tank2(has_water=True))\n",
    "tractor2.drive(field2)\n",
    "tractor2.stop()\n",
    "tractor2.refuel()"
   ]
  },
  {
   "cell_type": "code",
   "execution_count": 9,
   "id": "f4e2cecf",
   "metadata": {},
   "outputs": [
    {
     "name": "stdout",
     "output_type": "stream",
     "text": [
      "<machines.Water_tank object at 0x000001ADBB1BB710> attached to the tractor.\n",
      "Tractor is driving.\n",
      "Field has been watered.\n",
      "Out of fuel, please refuel and re-attach implement.\n",
      "Tractor stopped.\n",
      "Fuel is refilled.\n"
     ]
    }
   ],
   "source": [
    "water_tank3 = Water_tank(has_water=True)\n",
    "tractor2.attach_implement(water_tank3)\n",
    "tractor2.drive(field2)\n",
    "tractor2.stop()\n",
    "tractor2.refuel()"
   ]
  },
  {
   "cell_type": "code",
   "execution_count": 10,
   "id": "78f57412",
   "metadata": {},
   "outputs": [
    {
     "name": "stdout",
     "output_type": "stream",
     "text": [
      "2 days left until the banana is ready for harvest.\n",
      "1 days left until the banana is ready for harvest.\n",
      "The banana is ready for harvest.\n"
     ]
    }
   ],
   "source": [
    "for x in range(3):\n",
    "    field2.pass_day()"
   ]
  },
  {
   "cell_type": "code",
   "execution_count": 12,
   "id": "02be0600",
   "metadata": {},
   "outputs": [
    {
     "name": "stdout",
     "output_type": "stream",
     "text": [
      "An implement is already attached.\n",
      "Tractor is driving.\n",
      "The field has been harvested. Profit: 50. Current balance: 50.\n",
      "Out of fuel, please refuel and re-attach implement.\n"
     ]
    }
   ],
   "source": [
    "tractor2.attach_implement(harvester2)\n",
    "tractor2.drive(field2)"
   ]
  },
  {
   "cell_type": "code",
   "execution_count": null,
   "id": "75ecbab2",
   "metadata": {},
   "outputs": [],
   "source": []
  }
 ],
 "metadata": {
  "kernelspec": {
   "display_name": "Python 3 (ipykernel)",
   "language": "python",
   "name": "python3"
  },
  "language_info": {
   "codemirror_mode": {
    "name": "ipython",
    "version": 3
   },
   "file_extension": ".py",
   "mimetype": "text/x-python",
   "name": "python",
   "nbconvert_exporter": "python",
   "pygments_lexer": "ipython3",
   "version": "3.11.5"
  }
 },
 "nbformat": 4,
 "nbformat_minor": 5
}
