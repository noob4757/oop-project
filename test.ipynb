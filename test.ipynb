{
 "cells": [
  {
   "cell_type": "code",
   "execution_count": 14,
   "id": "12097ff4",
   "metadata": {},
   "outputs": [],
   "source": [
    "from machines import *\n",
    "from farm import *"
   ]
  },
  {
   "cell_type": "markdown",
   "id": "abb913fb",
   "metadata": {},
   "source": [
    "setup machines and farm"
   ]
  },
  {
   "cell_type": "code",
   "execution_count": 15,
   "id": "9f274ea3",
   "metadata": {},
   "outputs": [],
   "source": [
    "tractor1 = Tractor(\"BMW\", \"X8\", True)\n",
    "field1 = Field()\n",
    "plow1 = Plow()\n",
    "planter1 = Planter()\n",
    "harvester1 = Harvester()"
   ]
  },
  {
   "cell_type": "code",
   "execution_count": 16,
   "id": "395f35e0",
   "metadata": {},
   "outputs": [
    {
     "name": "stdout",
     "output_type": "stream",
     "text": [
      "<machines.Plow object at 0x000001D6095970D0> attached to the tractor.\n",
      "Tractor is driving.\n",
      "The field has been plowed.\n",
      "Tractor stopped.\n"
     ]
    }
   ],
   "source": [
    "tractor1.attach_implement(plow1)\n",
    "tractor1.drive(field1)\n",
    "tractor1.stop()"
   ]
  },
  {
   "cell_type": "code",
   "execution_count": 17,
   "id": "19eaafb8",
   "metadata": {},
   "outputs": [
    {
     "name": "stdout",
     "output_type": "stream",
     "text": [
      "Bought 1 banana seeds for 10. Current balance: 5.\n"
     ]
    }
   ],
   "source": [
    "field1.buy_seeds('banana', 1)"
   ]
  },
  {
   "cell_type": "code",
   "execution_count": 18,
   "id": "162ba31e",
   "metadata": {},
   "outputs": [
    {
     "name": "stdout",
     "output_type": "stream",
     "text": [
      "<machines.Plow object at 0x000001D6095970D0>  detached from the tractor.\n",
      "Fuel is refilled.\n"
     ]
    }
   ],
   "source": [
    "tractor1.detach_implement(plow1)\n",
    "tractor1.refuel()"
   ]
  },
  {
   "cell_type": "code",
   "execution_count": 19,
   "id": "a29cc75f",
   "metadata": {},
   "outputs": [
    {
     "name": "stdout",
     "output_type": "stream",
     "text": [
      "<machines.Planter object at 0x000001D609597ED0> attached to the tractor.\n",
      "Tractor is driving.\n",
      "Enter seed type to plant (banana, pineapple, watermelon): banana\n",
      "Seeds of banana have been planted in the field.\n",
      "Tractor stopped.\n"
     ]
    }
   ],
   "source": [
    "tractor1.attach_implement(planter1)\n",
    "tractor1.drive(field1)\n",
    "tractor1.stop()"
   ]
  },
  {
   "cell_type": "code",
   "execution_count": 20,
   "id": "13999327",
   "metadata": {},
   "outputs": [
    {
     "name": "stdout",
     "output_type": "stream",
     "text": [
      "Fuel is refilled.\n",
      "2 days left until the banana is ready for harvest.\n",
      "1 days left until the banana is ready for harvest.\n",
      "The banana is ready for harvest.\n"
     ]
    }
   ],
   "source": [
    "tractor1.refuel()\n",
    "for x in range(3):\n",
    "    field1.pass_day()"
   ]
  },
  {
   "cell_type": "code",
   "execution_count": 21,
   "id": "48985796",
   "metadata": {},
   "outputs": [
    {
     "name": "stdout",
     "output_type": "stream",
     "text": [
      "<machines.Planter object at 0x000001D609597ED0>  detached from the tractor.\n",
      "<machines.Harvester object at 0x000001D6095962D0> attached to the tractor.\n",
      "Fuel is refilled.\n",
      "Tractor is driving.\n",
      "The field has been harvested. Profit: 50. Current balance: 55.\n",
      "Tractor stopped.\n"
     ]
    }
   ],
   "source": [
    "tractor1.detach_implement(planter1)\n",
    "tractor1.attach_implement(harvester1)\n",
    "tractor1.refuel()\n",
    "tractor1.drive(field1)\n",
    "tractor1.stop()"
   ]
  }
 ],
 "metadata": {
  "kernelspec": {
   "display_name": "Python 3 (ipykernel)",
   "language": "python",
   "name": "python3"
  },
  "language_info": {
   "codemirror_mode": {
    "name": "ipython",
    "version": 3
   },
   "file_extension": ".py",
   "mimetype": "text/x-python",
   "name": "python",
   "nbconvert_exporter": "python",
   "pygments_lexer": "ipython3",
   "version": "3.11.5"
  }
 },
 "nbformat": 4,
 "nbformat_minor": 5
}
